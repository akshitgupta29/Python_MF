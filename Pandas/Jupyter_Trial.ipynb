{
 "cells": [
  {
   "cell_type": "code",
   "execution_count": 1,
   "metadata": {},
   "outputs": [],
   "source": [
    "import pandas as pd"
   ]
  },
  {
   "cell_type": "code",
   "execution_count": 2,
   "metadata": {},
   "outputs": [],
   "source": [
    "income = pd.read_csv(\"C:\\\\Users\\\\guptaksh.CORPDOM\\\\Desktop\\\\Self_Learning\\\\MF_Python\\\\Self_code\\\\Pandas\\\\Data\\\\income.csv\")"
   ]
  },
  {
   "cell_type": "code",
   "execution_count": 3,
   "metadata": {},
   "outputs": [
    {
     "ename": "AttributeError",
     "evalue": "'Series' object has no attribute 'counts_value'",
     "output_type": "error",
     "traceback": [
      "\u001b[1;31m---------------------------------------------------------------------------\u001b[0m",
      "\u001b[1;31mAttributeError\u001b[0m                            Traceback (most recent call last)",
      "\u001b[1;32m<ipython-input-3-bb748a90aad0>\u001b[0m in \u001b[0;36m<module>\u001b[1;34m\u001b[0m\n\u001b[1;32m----> 1\u001b[1;33m \u001b[0mincome\u001b[0m\u001b[1;33m.\u001b[0m\u001b[0mIndex\u001b[0m\u001b[1;33m.\u001b[0m\u001b[0mcounts_value\u001b[0m\u001b[1;33m(\u001b[0m\u001b[1;33m)\u001b[0m\u001b[1;33m\u001b[0m\u001b[1;33m\u001b[0m\u001b[0m\n\u001b[0m",
      "\u001b[1;32m~\\AppData\\Local\\Continuum\\anaconda3\\lib\\site-packages\\pandas\\core\\generic.py\u001b[0m in \u001b[0;36m__getattr__\u001b[1;34m(self, name)\u001b[0m\n\u001b[0;32m   4374\u001b[0m             \u001b[1;32mif\u001b[0m \u001b[0mself\u001b[0m\u001b[1;33m.\u001b[0m\u001b[0m_info_axis\u001b[0m\u001b[1;33m.\u001b[0m\u001b[0m_can_hold_identifiers_and_holds_name\u001b[0m\u001b[1;33m(\u001b[0m\u001b[0mname\u001b[0m\u001b[1;33m)\u001b[0m\u001b[1;33m:\u001b[0m\u001b[1;33m\u001b[0m\u001b[1;33m\u001b[0m\u001b[0m\n\u001b[0;32m   4375\u001b[0m                 \u001b[1;32mreturn\u001b[0m \u001b[0mself\u001b[0m\u001b[1;33m[\u001b[0m\u001b[0mname\u001b[0m\u001b[1;33m]\u001b[0m\u001b[1;33m\u001b[0m\u001b[1;33m\u001b[0m\u001b[0m\n\u001b[1;32m-> 4376\u001b[1;33m             \u001b[1;32mreturn\u001b[0m \u001b[0mobject\u001b[0m\u001b[1;33m.\u001b[0m\u001b[0m__getattribute__\u001b[0m\u001b[1;33m(\u001b[0m\u001b[0mself\u001b[0m\u001b[1;33m,\u001b[0m \u001b[0mname\u001b[0m\u001b[1;33m)\u001b[0m\u001b[1;33m\u001b[0m\u001b[1;33m\u001b[0m\u001b[0m\n\u001b[0m\u001b[0;32m   4377\u001b[0m \u001b[1;33m\u001b[0m\u001b[0m\n\u001b[0;32m   4378\u001b[0m     \u001b[1;32mdef\u001b[0m \u001b[0m__setattr__\u001b[0m\u001b[1;33m(\u001b[0m\u001b[0mself\u001b[0m\u001b[1;33m,\u001b[0m \u001b[0mname\u001b[0m\u001b[1;33m,\u001b[0m \u001b[0mvalue\u001b[0m\u001b[1;33m)\u001b[0m\u001b[1;33m:\u001b[0m\u001b[1;33m\u001b[0m\u001b[1;33m\u001b[0m\u001b[0m\n",
      "\u001b[1;31mAttributeError\u001b[0m: 'Series' object has no attribute 'counts_value'"
     ]
    }
   ],
   "source": [
    "income.Index.counts_value()"
   ]
  },
  {
   "cell_type": "code",
   "execution_count": 4,
   "metadata": {},
   "outputs": [
    {
     "data": {
      "text/plain": [
       "50    1\n",
       "12    1\n",
       "22    1\n",
       "21    1\n",
       "20    1\n",
       "19    1\n",
       "18    1\n",
       "17    1\n",
       "16    1\n",
       "15    1\n",
       "14    1\n",
       "13    1\n",
       "11    1\n",
       "24    1\n",
       "10    1\n",
       "9     1\n",
       "8     1\n",
       "7     1\n",
       "6     1\n",
       "5     1\n",
       "4     1\n",
       "3     1\n",
       "2     1\n",
       "1     1\n",
       "23    1\n",
       "25    1\n",
       "49    1\n",
       "38    1\n",
       "48    1\n",
       "47    1\n",
       "46    1\n",
       "45    1\n",
       "44    1\n",
       "43    1\n",
       "42    1\n",
       "41    1\n",
       "40    1\n",
       "39    1\n",
       "37    1\n",
       "26    1\n",
       "36    1\n",
       "35    1\n",
       "34    1\n",
       "33    1\n",
       "32    1\n",
       "31    1\n",
       "30    1\n",
       "29    1\n",
       "28    1\n",
       "27    1\n",
       "0     1\n",
       "dtype: int64"
      ]
     },
     "execution_count": 4,
     "metadata": {},
     "output_type": "execute_result"
    }
   ],
   "source": [
    "income.index.value_counts()"
   ]
  },
  {
   "cell_type": "code",
   "execution_count": 3,
   "metadata": {},
   "outputs": [
    {
     "data": {
      "text/plain": [
       "1111437"
      ]
     },
     "execution_count": 3,
     "metadata": {},
     "output_type": "execute_result"
    }
   ],
   "source": [
    "income.Y2002.min()"
   ]
  },
  {
   "cell_type": "code",
   "execution_count": 4,
   "metadata": {},
   "outputs": [
    {
     "data": {
      "text/plain": [
       "dtype('O')"
      ]
     },
     "execution_count": 4,
     "metadata": {},
     "output_type": "execute_result"
    }
   ],
   "source": [
    "income.Index.dtype"
   ]
  },
  {
   "cell_type": "code",
   "execution_count": 5,
   "metadata": {},
   "outputs": [
    {
     "data": {
      "text/html": [
       "<div>\n",
       "<style scoped>\n",
       "    .dataframe tbody tr th:only-of-type {\n",
       "        vertical-align: middle;\n",
       "    }\n",
       "\n",
       "    .dataframe tbody tr th {\n",
       "        vertical-align: top;\n",
       "    }\n",
       "\n",
       "    .dataframe thead th {\n",
       "        text-align: right;\n",
       "    }\n",
       "</style>\n",
       "<table border=\"1\" class=\"dataframe\">\n",
       "  <thead>\n",
       "    <tr style=\"text-align: right;\">\n",
       "      <th></th>\n",
       "      <th>Index</th>\n",
       "      <th>State</th>\n",
       "      <th>Y2002</th>\n",
       "      <th>Y2003</th>\n",
       "      <th>Y2004</th>\n",
       "      <th>Y2005</th>\n",
       "      <th>Y2006</th>\n",
       "      <th>Y2007</th>\n",
       "      <th>Y2008</th>\n",
       "      <th>Y2009</th>\n",
       "      <th>Y2010</th>\n",
       "      <th>Y2011</th>\n",
       "      <th>Y2012</th>\n",
       "      <th>Y2013</th>\n",
       "      <th>Y2014</th>\n",
       "      <th>Y2015</th>\n",
       "    </tr>\n",
       "  </thead>\n",
       "  <tbody>\n",
       "    <tr>\n",
       "      <th>0</th>\n",
       "      <td>A</td>\n",
       "      <td>Alabama</td>\n",
       "      <td>1296530</td>\n",
       "      <td>1317711</td>\n",
       "      <td>1118631</td>\n",
       "      <td>1492583</td>\n",
       "      <td>1107408</td>\n",
       "      <td>1440134</td>\n",
       "      <td>1945229</td>\n",
       "      <td>1944173</td>\n",
       "      <td>1237582</td>\n",
       "      <td>1440756</td>\n",
       "      <td>1186741</td>\n",
       "      <td>1852841</td>\n",
       "      <td>1558906</td>\n",
       "      <td>1916661</td>\n",
       "    </tr>\n",
       "    <tr>\n",
       "      <th>1</th>\n",
       "      <td>A</td>\n",
       "      <td>Alaska</td>\n",
       "      <td>1170302</td>\n",
       "      <td>1960378</td>\n",
       "      <td>1818085</td>\n",
       "      <td>1447852</td>\n",
       "      <td>1861639</td>\n",
       "      <td>1465841</td>\n",
       "      <td>1551826</td>\n",
       "      <td>1436541</td>\n",
       "      <td>1629616</td>\n",
       "      <td>1230866</td>\n",
       "      <td>1512804</td>\n",
       "      <td>1985302</td>\n",
       "      <td>1580394</td>\n",
       "      <td>1979143</td>\n",
       "    </tr>\n",
       "    <tr>\n",
       "      <th>2</th>\n",
       "      <td>A</td>\n",
       "      <td>Arizona</td>\n",
       "      <td>1742027</td>\n",
       "      <td>1968140</td>\n",
       "      <td>1377583</td>\n",
       "      <td>1782199</td>\n",
       "      <td>1102568</td>\n",
       "      <td>1109382</td>\n",
       "      <td>1752886</td>\n",
       "      <td>1554330</td>\n",
       "      <td>1300521</td>\n",
       "      <td>1130709</td>\n",
       "      <td>1907284</td>\n",
       "      <td>1363279</td>\n",
       "      <td>1525866</td>\n",
       "      <td>1647724</td>\n",
       "    </tr>\n",
       "    <tr>\n",
       "      <th>3</th>\n",
       "      <td>A</td>\n",
       "      <td>Arkansas</td>\n",
       "      <td>1485531</td>\n",
       "      <td>1994927</td>\n",
       "      <td>1119299</td>\n",
       "      <td>1947979</td>\n",
       "      <td>1669191</td>\n",
       "      <td>1801213</td>\n",
       "      <td>1188104</td>\n",
       "      <td>1628980</td>\n",
       "      <td>1669295</td>\n",
       "      <td>1928238</td>\n",
       "      <td>1216675</td>\n",
       "      <td>1591896</td>\n",
       "      <td>1360959</td>\n",
       "      <td>1329341</td>\n",
       "    </tr>\n",
       "  </tbody>\n",
       "</table>\n",
       "</div>"
      ],
      "text/plain": [
       "  Index     State    Y2002    Y2003    Y2004    Y2005    Y2006    Y2007  \\\n",
       "0     A   Alabama  1296530  1317711  1118631  1492583  1107408  1440134   \n",
       "1     A    Alaska  1170302  1960378  1818085  1447852  1861639  1465841   \n",
       "2     A   Arizona  1742027  1968140  1377583  1782199  1102568  1109382   \n",
       "3     A  Arkansas  1485531  1994927  1119299  1947979  1669191  1801213   \n",
       "\n",
       "     Y2008    Y2009    Y2010    Y2011    Y2012    Y2013    Y2014    Y2015  \n",
       "0  1945229  1944173  1237582  1440756  1186741  1852841  1558906  1916661  \n",
       "1  1551826  1436541  1629616  1230866  1512804  1985302  1580394  1979143  \n",
       "2  1752886  1554330  1300521  1130709  1907284  1363279  1525866  1647724  \n",
       "3  1188104  1628980  1669295  1928238  1216675  1591896  1360959  1329341  "
      ]
     },
     "execution_count": 5,
     "metadata": {},
     "output_type": "execute_result"
    }
   ],
   "source": [
    "income.loc[income.Index=='A']"
   ]
  },
  {
   "cell_type": "code",
   "execution_count": 3,
   "metadata": {},
   "outputs": [],
   "source": [
    "iris = pd.read_csv(\"C:\\\\Users\\\\guptaksh.CORPDOM\\\\Desktop\\\\Self_Learning\\\\MF_Python\\\\Self_code\\\\Pandas\\\\Data\\\\iris.csv\")"
   ]
  },
  {
   "cell_type": "code",
   "execution_count": 2,
   "metadata": {},
   "outputs": [],
   "source": [
    "import pandas as pd"
   ]
  },
  {
   "cell_type": "code",
   "execution_count": 4,
   "metadata": {},
   "outputs": [
    {
     "data": {
      "text/plain": [
       "array(['setosa', 'versicolor', 'virginica'], dtype=object)"
      ]
     },
     "execution_count": 4,
     "metadata": {},
     "output_type": "execute_result"
    }
   ],
   "source": [
    "iris.Species.unique()"
   ]
  },
  {
   "cell_type": "code",
   "execution_count": null,
   "metadata": {},
   "outputs": [],
   "source": [
    "iris."
   ]
  }
 ],
 "metadata": {
  "kernelspec": {
   "display_name": "Python 3",
   "language": "python",
   "name": "python3"
  },
  "language_info": {
   "codemirror_mode": {
    "name": "ipython",
    "version": 3
   },
   "file_extension": ".py",
   "mimetype": "text/x-python",
   "name": "python",
   "nbconvert_exporter": "python",
   "pygments_lexer": "ipython3",
   "version": "3.7.1"
  }
 },
 "nbformat": 4,
 "nbformat_minor": 2
}
